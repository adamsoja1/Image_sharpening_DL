{
 "cells": [
  {
   "cell_type": "code",
   "execution_count": 11,
   "id": "f7ff72cf-960a-4e18-9715-848424dad712",
   "metadata": {},
   "outputs": [],
   "source": [
    "from generator import image_load_generator_x,image_load_generator_blurry\n",
    "from model_sequential import model_res\n",
    "import os\n",
    "import tensorflow"
   ]
  },
  {
   "cell_type": "code",
   "execution_count": 12,
   "id": "b18e5a9c-f027-442a-8a0c-3ebe10b4de12",
   "metadata": {},
   "outputs": [],
   "source": [
    "batch_size = 13\n",
    "input_size = (200,200,3)\n",
    "\n",
    "image_blurry = image_load_generator_blurry('data/train',batch_size)\n",
    "image_normal = image_load_generator_x('data/train',batch_size)\n",
    "\n",
    "image_blurry_val = image_load_generator_x('data/validation',batch_size)\n",
    "image_normal_val = image_load_generator_blurry('data/validation',batch_size)\n",
    "\n",
    "data_generator = zip(image_blurry,image_normal)\n",
    "val_datagen = zip(image_blurry_val,image_normal_val)\n",
    "\n",
    "\n",
    "steps_train = len(os.listdir('data/train')) // batch_size\n",
    "steps_val = len(os.listdir('data/validation')) // batch_size"
   ]
  },
  {
   "cell_type": "code",
   "execution_count": 13,
   "id": "d3c377fd-f21d-43ed-8c0f-45b46d60e2ff",
   "metadata": {},
   "outputs": [],
   "source": [
    "model = model_res(input_size)"
   ]
  },
  {
   "cell_type": "code",
   "execution_count": 14,
   "id": "f44756e2-5a7d-4d9c-b2ff-240179d0cd59",
   "metadata": {},
   "outputs": [
    {
     "name": "stdout",
     "output_type": "stream",
     "text": [
      "Model: \"sequential\"\n",
      "_________________________________________________________________\n",
      " Layer (type)                Output Shape              Param #   \n",
      "=================================================================\n",
      " conv2d (Conv2D)             (None, 200, 200, 16)      448       \n",
      "                                                                 \n",
      " conv2d_1 (Conv2D)           (None, 200, 200, 128)     18560     \n",
      "                                                                 \n",
      " conv2d_2 (Conv2D)           (None, 200, 200, 64)      73792     \n",
      "                                                                 \n",
      " conv2d_3 (Conv2D)           (None, 200, 200, 64)      36928     \n",
      "                                                                 \n",
      " conv2d_4 (Conv2D)           (None, 200, 200, 32)      18464     \n",
      "                                                                 \n",
      " max_pooling2d (MaxPooling2D  (None, 100, 100, 32)     0         \n",
      " )                                                               \n",
      "                                                                 \n",
      " conv2d_5 (Conv2D)           (None, 100, 100, 100)     28900     \n",
      "                                                                 \n",
      " conv2d_6 (Conv2D)           (None, 100, 100, 100)     90100     \n",
      "                                                                 \n",
      " up_sampling2d (UpSampling2D  (None, 200, 200, 100)    0         \n",
      " )                                                               \n",
      "                                                                 \n",
      " conv2d_7 (Conv2D)           (None, 200, 200, 32)      28832     \n",
      "                                                                 \n",
      " conv2d_8 (Conv2D)           (None, 200, 200, 64)      18496     \n",
      "                                                                 \n",
      " conv2d_9 (Conv2D)           (None, 200, 200, 64)      36928     \n",
      "                                                                 \n",
      " conv2d_10 (Conv2D)          (None, 200, 200, 128)     73856     \n",
      "                                                                 \n",
      " conv2d_11 (Conv2D)          (None, 200, 200, 16)      18448     \n",
      "                                                                 \n",
      " conv2d_12 (Conv2D)          (None, 200, 200, 3)       435       \n",
      "                                                                 \n",
      "=================================================================\n",
      "Total params: 444,187\n",
      "Trainable params: 444,187\n",
      "Non-trainable params: 0\n",
      "_________________________________________________________________\n"
     ]
    }
   ],
   "source": [
    "model.compile(loss='mse',optimizer = tensorflow.keras.optimizers.Adam(learning_rate=0.001),metrics=['accuracy'])\n",
    "model.summary()"
   ]
  },
  {
   "cell_type": "code",
   "execution_count": null,
   "id": "a58fab2d-c2c6-4977-9bd5-52d03a360cd9",
   "metadata": {},
   "outputs": [
    {
     "name": "stdout",
     "output_type": "stream",
     "text": [
      "Epoch 1/15\n",
      "923/923 [==============================] - 348s 366ms/step - loss: 1381.5640 - accuracy: 0.6876 - val_loss: 3837.1145 - val_accuracy: 0.6702\n",
      "Epoch 2/15\n",
      "923/923 [==============================] - 401s 433ms/step - loss: 239.9882 - accuracy: 0.7983 - val_loss: 3958.7412 - val_accuracy: 0.7093\n",
      "Epoch 3/15\n",
      "923/923 [==============================] - 402s 436ms/step - loss: 255.5235 - accuracy: 0.7778 - val_loss: 4798.2905 - val_accuracy: 0.7036\n",
      "Epoch 4/15\n",
      " 75/923 [=>............................] - ETA: 5:47 - loss: 197.4293 - accuracy: 0.8185"
     ]
    }
   ],
   "source": [
    "history = model.fit(data_generator,\n",
    "                    steps_per_epoch = steps_train,\n",
    "                    verbose=1,\n",
    "                    epochs=15, \n",
    "                    validation_data=val_datagen, \n",
    "                    validation_steps = steps_val,\n",
    "                    shuffle=False)\n",
    "                    \n",
    "            "
   ]
  },
  {
   "cell_type": "code",
   "execution_count": null,
   "id": "15cdbed6-53bb-4322-a15b-ce178138ac54",
   "metadata": {},
   "outputs": [],
   "source": [
    "image_blurry_test = image_load_generator_blurry('data/test',batch_size)\n",
    "image_normal_test = image_load_generator_x('data/test',batch_size)"
   ]
  },
  {
   "cell_type": "code",
   "execution_count": null,
   "id": "d3860ab3-92fb-43b1-901b-8096908d2a0f",
   "metadata": {},
   "outputs": [],
   "source": [
    "model.save('model.h5')"
   ]
  },
  {
   "cell_type": "code",
   "execution_count": null,
   "id": "92482548-d6b1-485d-b3a4-15c62ace93ef",
   "metadata": {},
   "outputs": [],
   "source": [
    "import tensorflow as tf"
   ]
  },
  {
   "cell_type": "code",
   "execution_count": null,
   "id": "4bde9bda-aee1-4c06-91b7-5b35664fed42",
   "metadata": {},
   "outputs": [],
   "source": [
    "#model = tf.keras.models.load_model('model.h5')\n",
    "images = next(image_blurry_test)\n",
    "images_truth = next(image_normal_test)\n",
    "\n",
    "prediction = model.predict(images)"
   ]
  },
  {
   "cell_type": "code",
   "execution_count": null,
   "id": "2859f5a3-c79f-470f-9dfd-7d6cc7b269da",
   "metadata": {},
   "outputs": [],
   "source": [
    "import matplotlib.pyplot as plt\n",
    "import random\n",
    "import numpy as np\n",
    "number = random.randint(0,9)\n",
    "\n",
    "plt.imshow(prediction[number].astype(np.uint8))\n",
    "plt.show()\n",
    "\n",
    "plt.imshow(images_truth[number])\n",
    "plt.show()\n",
    "\n",
    "plt.imshow(images[number])\n",
    "plt.show()"
   ]
  },
  {
   "cell_type": "code",
   "execution_count": null,
   "id": "56ebfc13-379d-4228-a62e-59b57d1843c6",
   "metadata": {},
   "outputs": [],
   "source": []
  }
 ],
 "metadata": {
  "kernelspec": {
   "display_name": "Python 3 (ipykernel)",
   "language": "python",
   "name": "python3"
  },
  "language_info": {
   "codemirror_mode": {
    "name": "ipython",
    "version": 3
   },
   "file_extension": ".py",
   "mimetype": "text/x-python",
   "name": "python",
   "nbconvert_exporter": "python",
   "pygments_lexer": "ipython3",
   "version": "3.8.0"
  }
 },
 "nbformat": 4,
 "nbformat_minor": 5
}
