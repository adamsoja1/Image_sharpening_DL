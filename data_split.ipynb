{
 "cells": [
  {
   "cell_type": "code",
   "execution_count": 5,
   "id": "6a4467b3-52c0-444b-972f-e0d90606f0e9",
   "metadata": {},
   "outputs": [],
   "source": [
    "import os\n",
    "import matplotlib.pyplot as plt\n",
    "import shutil\n",
    "import numpy as np\n",
    "import cv2"
   ]
  },
  {
   "cell_type": "code",
   "execution_count": 6,
   "id": "14a7d503-907a-4db8-a2f1-6d33e1efe988",
   "metadata": {},
   "outputs": [],
   "source": [
    "main_data = 'flickr30k_images/flickr30k_images'"
   ]
  },
  {
   "cell_type": "code",
   "execution_count": 7,
   "id": "a8089bd8-5152-40e5-ba43-ced38325bd31",
   "metadata": {},
   "outputs": [],
   "source": [
    "def data_split(train_size,test_size,valid_size,path):\n",
    "    files_list = os.listdir(main_data)\n",
    "    \n",
    "    files_list = files_list[0:20000]\n",
    "    \n",
    "    train = round(train_size * len(files_list))\n",
    "    valid = round(valid_size * len(files_list))\n",
    "    test = round(test_size * len(files_list))\n",
    "    \n",
    "    files_train = files_list[0:train]\n",
    "    files_valid = files_list[train:train+valid]\n",
    "    files_test = files_list[train+valid:test+train+valid]\n",
    "    \n",
    "    for file in files_train:\n",
    "        image = plt.imread(f'{path}/{file}')\n",
    "        image = cv2.resize(image, (200, 200)) \n",
    "        image = np.array(image)\n",
    "        np.save(f'data/train/{file}.npy',image)\n",
    "        \n",
    "\n",
    "        \n",
    "    for file in files_valid:\n",
    "        image = plt.imread(f'{path}/{file}')\n",
    "        image = cv2.resize(image, (200, 200)) \n",
    "        image = np.array(image)\n",
    "        np.save(f'data/validation/{file}.npy',image)\n",
    "        \n",
    "        \n",
    "        \n",
    "    for file in files_test:\n",
    "        image = plt.imread(f'{path}/{file}')\n",
    "        image = cv2.resize(image, (200, 200)) \n",
    "        image = np.array(image)\n",
    "        np.save(f'data/test/{file}.npy',image)\n",
    "        \n",
    "     "
   ]
  },
  {
   "cell_type": "code",
   "execution_count": 8,
   "id": "f86991dd-ee73-4337-8284-6e63ea73d654",
   "metadata": {},
   "outputs": [],
   "source": [
    "data_split(0.60,0.20,0.20,main_data)"
   ]
  },
  {
   "cell_type": "code",
   "execution_count": null,
   "id": "fa266037-04e3-4cca-a740-cd027911d62e",
   "metadata": {},
   "outputs": [],
   "source": []
  }
 ],
 "metadata": {
  "kernelspec": {
   "display_name": "Python 3 (ipykernel)",
   "language": "python",
   "name": "python3"
  },
  "language_info": {
   "codemirror_mode": {
    "name": "ipython",
    "version": 3
   },
   "file_extension": ".py",
   "mimetype": "text/x-python",
   "name": "python",
   "nbconvert_exporter": "python",
   "pygments_lexer": "ipython3",
   "version": "3.8.0"
  }
 },
 "nbformat": 4,
 "nbformat_minor": 5
}
